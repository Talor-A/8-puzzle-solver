{
 "cells": [
  {
   "cell_type": "code",
   "execution_count": 1,
   "metadata": {},
   "outputs": [],
   "source": [
    "import pandas as pd"
   ]
  },
  {
   "cell_type": "code",
   "execution_count": 24,
   "metadata": {},
   "outputs": [],
   "source": [
    "df = pd.read_csv(\"test_1000.csv\")\n",
    "df.describe()\n",
    "\n",
    "df[\"cost\"] = df[\" cost\"]\n",
    "del(df[\" cost\"])\n",
    "\n",
    "df[\"time\"] = df[\" time\"]\n",
    "del(df[\" time\"])"
   ]
  },
  {
   "cell_type": "code",
   "execution_count": 50,
   "metadata": {},
   "outputs": [
    {
     "name": "stdout",
     "output_type": "stream",
     "text": [
      "depth    cost          time(ms)\n",
      "10       80.0             0.0\n",
      "12      229.0             0.0\n",
      "14      586.0             0.0\n",
      "16     1357.0             2.0\n",
      "18     3189.0            13.0\n",
      "20     8396.0            92.0\n",
      "22    20808.0           580.0\n",
      "24    46638.0          2804.0\n",
      "26    99934.0         12326.0\n",
      "28   165882.0         34411.0\n",
      "30   255591.0         82240.0\n"
     ]
    }
   ],
   "source": [
    "print(\"depth    cost          time(ms)\")\n",
    "for depth in sorted(list(df[\"depth\"].unique())):\n",
    "    if(depth % 2 == 0):\n",
    "        d2 = df[df[\"depth\"] == depth]\n",
    "        print(f'{depth:2}', f'{round(d2.cost.mean()):10}', f'{round(d2.time.mean()):15}')"
   ]
  },
  {
   "cell_type": "code",
   "execution_count": null,
   "metadata": {},
   "outputs": [],
   "source": []
  },
  {
   "cell_type": "code",
   "execution_count": null,
   "metadata": {},
   "outputs": [],
   "source": []
  }
 ],
 "metadata": {
  "kernelspec": {
   "display_name": "Python 3",
   "language": "python",
   "name": "python3"
  },
  "language_info": {
   "codemirror_mode": {
    "name": "ipython",
    "version": 3
   },
   "file_extension": ".py",
   "mimetype": "text/x-python",
   "name": "python",
   "nbconvert_exporter": "python",
   "pygments_lexer": "ipython3",
   "version": "3.6.8"
  }
 },
 "nbformat": 4,
 "nbformat_minor": 2
}
